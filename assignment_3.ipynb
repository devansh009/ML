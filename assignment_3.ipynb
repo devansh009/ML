{
 "cells": [
  {
   "cell_type": "code",
   "execution_count": 5,
   "metadata": {},
   "outputs": [
    {
     "name": "stdout",
     "output_type": "stream",
     "text": [
      "B/A= 0.10185185185185185\n"
     ]
    }
   ],
   "source": [
    "#question1\n",
    "def pro(a,b,c):\n",
    "    d=(c*a)/b\n",
    "    print(\"B/A=\",d)\n",
    "pro(11/36,6/36,2/36)"
   ]
  },
  {
   "cell_type": "code",
   "execution_count": 21,
   "metadata": {},
   "outputs": [
    {
     "name": "stdout",
     "output_type": "stream",
     "text": [
      "Bag 1:\n",
      "White balls= 4 ,Black balls= 6\n",
      "Bag 2:\n",
      "White balls= 4 ,Black balls= 3\n",
      "Probabilty of withdrawing black ball from bag1= 0.5833333333333334\n"
     ]
    }
   ],
   "source": [
    "#question2\n",
    "def bag1(w,b):\n",
    "    print(\"Bag 1:\")\n",
    "    print(\"White balls=\",w,\",Black balls=\",b)\n",
    "bag1(4,6)\n",
    "def bag2(w,b):\n",
    "    print(\"Bag 2:\")\n",
    "    print(\"White balls=\",w,\",Black balls=\",b)\n",
    "bag2(4,3)\n",
    "def probab(bag1,bag2,black_1,black_2):\n",
    "    prob_black=(bag1*black_1)+(bag2*black_2)\n",
    "    prob_1_black=(black_1*bag1)/prob_black\n",
    "    print(\"Probabilty of withdrawing black ball from bag1=\",prob_1_black)\n",
    "probab(1/2,1/2,6/10,3/7)\n",
    "\n"
   ]
  },
  {
   "cell_type": "code",
   "execution_count": 30,
   "metadata": {},
   "outputs": [
    {
     "name": "stdout",
     "output_type": "stream",
     "text": [
      "Let 'e' be any event when reported 4\n",
      "Probability of 4 actually occuring= 0.16666666666666666\n",
      "Probability of 4 not occuring     = 0.8333333333333334\n",
      "When reported true                = 0.6666666666666666\n",
      "When responded false              = 0.3333333333333333\n",
      "Number obtained is actually 4     = 0.2857142857142857\n"
     ]
    }
   ],
   "source": [
    "#question3\n",
    "print(\"Let 'e' be any event when reported 4\")\n",
    "e1=1/6\n",
    "print(\"Probability of 4 actually occuring=\",e1)\n",
    "e2=5/6\n",
    "print(\"Probability of 4 not occuring     =\",e2)\n",
    "c=2/3\n",
    "print(\"When reported true                =\",c)\n",
    "d=1/3\n",
    "print(\"When responded false              =\",d)\n",
    "f=(c*e1)/((e1*c)+(e2*d))\n",
    "print(\"Number obtained is actually 4     =\",f)"
   ]
  },
  {
   "cell_type": "code",
   "execution_count": null,
   "metadata": {
    "collapsed": true
   },
   "outputs": [],
   "source": []
  }
 ],
 "metadata": {
  "kernelspec": {
   "display_name": "Python 3",
   "language": "python",
   "name": "python3"
  },
  "language_info": {
   "codemirror_mode": {
    "name": "ipython",
    "version": 3
   },
   "file_extension": ".py",
   "mimetype": "text/x-python",
   "name": "python",
   "nbconvert_exporter": "python",
   "pygments_lexer": "ipython3",
   "version": "3.6.3"
  }
 },
 "nbformat": 4,
 "nbformat_minor": 2
}
